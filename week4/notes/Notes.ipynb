{
 "cells": [
  {
   "cell_type": "markdown",
   "metadata": {},
   "source": [
    "Taylor Series:\n",
    "Taylor series method tells us is that if we know everything about the function at some point, whereby everything means the functions value, its first derivative, second derivative, third derivative etc., then we can use this information to reconstruct the function everywhere else.\n",
    "\n",
    "True only for certain functions, called well behaved functions.\n",
    "\n",
    "Well behaved functions:\n",
    "- Continuous\n",
    "- Differentiatiable (as many times)"
   ]
  },
  {
   "cell_type": "markdown",
   "metadata": {},
   "source": [
    "<img src = \"taylor series exponential function.png\">"
   ]
  },
  {
   "cell_type": "markdown",
   "metadata": {},
   "source": [
    "### Maclaurin Series:\n",
    "\n",
    "<img src = \"random function.png\">\n",
    "\n",
    "to find approximation of a series, at a particular point, say x = 0"
   ]
  },
  {
   "cell_type": "markdown",
   "metadata": {},
   "source": [
    "<img src = \"random function1.png\">"
   ]
  },
  {
   "cell_type": "markdown",
   "metadata": {},
   "source": [
    "To find g2(x):\n",
    "\n",
    "let g(x) = ax2 + bx + c = f(0) => c = f(0)  \n",
    "g'(x) = 2ax + b = f'(0) => b = f'(0)  \n",
    "g\"(x) = 2a = f\"(0) => a = f\"(0)/2  \n",
    "\n",
    "Therefore, g2(x) = f(0) + f'(0)x + 1/2 * (f\"(0) * x <sup>2</sup>)  \n",
    "Similarily, g3(x) = f(0) + f'(0)x + 1/2 * (f\"(0) * x <sup>2</sup>) + 1/6 * (f <sup>(3)</sup> (0) * x <sup>3</sup>)"
   ]
  },
  {
   "cell_type": "markdown",
   "metadata": {},
   "source": [
    "This gives\n",
    "\n",
    "g<sup>i</sup> (x) = f(0) + f'(0)x + ... + 1/i! * (f <sup>i</sup> (0) x <sup>i</sup> )  \n",
    "\n",
    "### In general,"
   ]
  },
  {
   "cell_type": "markdown",
   "metadata": {},
   "source": [
    "<img src = \"maclaurin series.png\">"
   ]
  },
  {
   "cell_type": "markdown",
   "metadata": {},
   "source": [
    "### Taylor Series:\n",
    "\n",
    "Says, there is nothing special about a point.\n",
    "\n",
    "<img src = \"power series1.png\">\n",
    "<img src = \"power series2.png\">\n"
   ]
  },
  {
   "cell_type": "markdown",
   "metadata": {},
   "source": [
    "## When x = 0, Taylor series =  Maclaurin series "
   ]
  },
  {
   "cell_type": "code",
   "execution_count": null,
   "metadata": {
    "collapsed": true
   },
   "outputs": [],
   "source": []
  }
 ],
 "metadata": {
  "kernelspec": {
   "display_name": "Python 3",
   "language": "python",
   "name": "python3"
  },
  "language_info": {
   "codemirror_mode": {
    "name": "ipython",
    "version": 3
   },
   "file_extension": ".py",
   "mimetype": "text/x-python",
   "name": "python",
   "nbconvert_exporter": "python",
   "pygments_lexer": "ipython3",
   "version": "3.6.3"
  }
 },
 "nbformat": 4,
 "nbformat_minor": 2
}
