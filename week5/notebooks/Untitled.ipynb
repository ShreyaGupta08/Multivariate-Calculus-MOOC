{
 "cells": [
  {
   "cell_type": "markdown",
   "metadata": {},
   "source": [
    "### Newton Raphson Method\n",
    "\n",
    "Take smaller steps, depending upon the height and the gradient at the current step to reach the minima.\n",
    "\n",
    "x(n+1) = x(n) - f(x)/f'(x) ---------------------------------------- (1)\n",
    "\n",
    "How did we reach here?\n",
    "\n",
    "from differentiation formula we know that,\n",
    "\n",
    "f(x+ dx) = f(x) + f'(x) * dx\n",
    "\n",
    "so, if we are to reach 0 from where we are currently, i.e. f(x+ dx) ~ 0,\n",
    "\n",
    "f(x) + f'(x) * dx = 0 => dx = -f(x)/f'(x)\n",
    "\n",
    "Therefore, the new x chosen follows equation (1)"
   ]
  },
  {
   "cell_type": "markdown",
   "metadata": {},
   "source": [
    "- Newton Raphson method is used to find the roots of the equations"
   ]
  },
  {
   "cell_type": "markdown",
   "metadata": {},
   "source": [
    "#### Problems:\n",
    "- Since step size = -f(x)/f'(x), it can become very big if f'(x) is very small, i.e. near minima/maxima"
   ]
  },
  {
   "cell_type": "markdown",
   "metadata": {},
   "source": [
    "### Grad of a function f = [ df/dx,  df/dy].T"
   ]
  },
  {
   "cell_type": "markdown",
   "metadata": {},
   "source": [
    "### Lagrange's multipliers\n",
    "For lagrange's multipliers, rrefer to quiz 3"
   ]
  },
  {
   "cell_type": "code",
   "execution_count": 1,
   "metadata": {
    "collapsed": true
   },
   "outputs": [],
   "source": [
    "# First we define the functions,\n",
    "def f (x, y) :\n",
    "    return np.exp(-(2*x*x + y*y - x*y) / 2)\n",
    "\n",
    "def g (x, y) :\n",
    "    return x*x + 3*(y+1)**2 - 1\n",
    "\n",
    "# Next their derivatives,\n",
    "def dfdx (x, y) :\n",
    "    return 1/2 * (-4*x + y) * f(x, y)\n",
    "\n",
    "def dfdy (x, y) :\n",
    "    return 1/2 * (x - 2*y) * f(x, y)\n",
    "\n",
    "def dgdx (x, y) :\n",
    "    return 2 * x\n",
    "\n",
    "def dgdy (x, y) :\n",
    "    return 6 * (y+ 1)"
   ]
  }
 ],
 "metadata": {
  "kernelspec": {
   "display_name": "Python 3",
   "language": "python",
   "name": "python3"
  },
  "language_info": {
   "codemirror_mode": {
    "name": "ipython",
    "version": 3
   },
   "file_extension": ".py",
   "mimetype": "text/x-python",
   "name": "python",
   "nbconvert_exporter": "python",
   "pygments_lexer": "ipython3",
   "version": "3.6.3"
  }
 },
 "nbformat": 4,
 "nbformat_minor": 2
}
